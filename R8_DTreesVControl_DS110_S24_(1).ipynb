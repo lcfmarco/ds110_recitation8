{
  "cells": [
    {
      "cell_type": "markdown",
      "metadata": {
        "id": "view-in-github",
        "colab_type": "text"
      },
      "source": [
        "<a href=\"https://colab.research.google.com/github/lcfmarco/ds110_recitation8/blob/main/R8_DTreesVControl_DS110_S24_(1).ipynb\" target=\"_parent\"><img src=\"https://colab.research.google.com/assets/colab-badge.svg\" alt=\"Open In Colab\"/></a>"
      ]
    },
    {
      "cell_type": "markdown",
      "metadata": {
        "id": "D5J2hJze68hD"
      },
      "source": [
        "# Decision Tree Decisions"
      ]
    },
    {
      "cell_type": "markdown",
      "metadata": {
        "id": "6PAjorfX68hG"
      },
      "source": [
        "A function that calculates entropy given a number of positive examples and a number of negative examples is provided below.  Use it to calculate the expected entropy for each decision tree feature described below."
      ]
    },
    {
      "cell_type": "code",
      "execution_count": null,
      "metadata": {
        "id": "rKY6N9K068hG"
      },
      "outputs": [],
      "source": [
        "import math\n",
        "\n",
        "# Measure of randomness\n",
        "def entropy(pos,neg):\n",
        "    total = pos+neg\n",
        "    pos_prob = pos/total\n",
        "    neg_prob = neg/total\n",
        "    if pos_prob == 0 or neg_prob == 0:\n",
        "        return 0\n",
        "    return -pos_prob * math.log2(pos_prob) - neg_prob * math.log2(neg_prob)"
      ]
    },
    {
      "cell_type": "markdown",
      "metadata": {
        "id": "rRcurNPF68hI"
      },
      "source": [
        "1. The feature splits the examples into two groups.  In one group, all 10 examples are positive examples.  In the other, the examples are evenly split between positive and negative examples, 5 and 5."
      ]
    },
    {
      "cell_type": "code",
      "execution_count": null,
      "metadata": {
        "colab": {
          "base_uri": "https://localhost:8080/"
        },
        "id": "pZZaZrl068hI",
        "outputId": "ba71658b-3532-49ef-bb91-33835b99e26f"
      },
      "outputs": [
        {
          "output_type": "execute_result",
          "data": {
            "text/plain": [
              "0.5"
            ]
          },
          "metadata": {},
          "execution_count": 6
        }
      ],
      "source": [
        "# TODO\n",
        "\n",
        "10/20*entropy(10,0) + 10/20*entropy(5, 5)"
      ]
    },
    {
      "cell_type": "markdown",
      "metadata": {
        "id": "MuPgFqk668hI"
      },
      "source": [
        "2. The feature splits the examples into two groups.  The first group has 8 positive examples and 2 negative examples.  The second group has 8 negative examples and 2 positive examples."
      ]
    },
    {
      "cell_type": "code",
      "execution_count": null,
      "metadata": {
        "colab": {
          "base_uri": "https://localhost:8080/"
        },
        "id": "AelKKAte68hI",
        "outputId": "95b3a905-41b6-49b4-9678-d1ea77ed04dd"
      },
      "outputs": [
        {
          "output_type": "execute_result",
          "data": {
            "text/plain": [
              "0.7219280948873623"
            ]
          },
          "metadata": {},
          "execution_count": 7
        }
      ],
      "source": [
        "# TODO\n",
        "\n",
        "10/20*entropy(8, 2) + 10/20*entropy(2, 8)"
      ]
    },
    {
      "cell_type": "markdown",
      "metadata": {
        "id": "KfEg_3ne68hJ"
      },
      "source": [
        "3. The feature splits the examples into two groups.  The first group has 13 positive examples and 2 negative examples.  The second group has 4 negative examples and 1 positive example."
      ]
    },
    {
      "cell_type": "code",
      "execution_count": null,
      "metadata": {
        "colab": {
          "base_uri": "https://localhost:8080/"
        },
        "id": "LgFlSpJd68hJ",
        "outputId": "449ad71f-be78-4b5a-d712-ccdfc91f1b23"
      },
      "outputs": [
        {
          "output_type": "execute_result",
          "data": {
            "text/plain": [
              "0.6053641536365195"
            ]
          },
          "metadata": {},
          "execution_count": 8
        }
      ],
      "source": [
        "# TODO\n",
        "\n",
        "15/20 * entropy(13, 2) + 5/20 * entropy(1,4)"
      ]
    },
    {
      "cell_type": "markdown",
      "metadata": {
        "id": "ioff66_468hJ"
      },
      "source": [
        "4. Rank these features (1-3) from best to worst in terms of how useful they are in a decision tree.\n",
        "\n",
        "- Less entropy = better, less variance so less randomness"
      ]
    },
    {
      "cell_type": "markdown",
      "metadata": {
        "id": "aro956KV68hJ"
      },
      "source": [
        "**TODO**"
      ]
    },
    {
      "cell_type": "markdown",
      "metadata": {
        "id": "nnvf-MZ468hJ"
      },
      "source": [
        "# Regression"
      ]
    },
    {
      "cell_type": "markdown",
      "metadata": {
        "id": "BlRwA4ji68hJ"
      },
      "source": [
        "The following list gives monthly gas prices (per gallon) in Massachusetts from the beginning of the pandemic (March 2020) to the end of 2022.  (Source: https://www.eia.gov/dnav/pet/hist/LeafHandler.ashx?n=PET&s=EMM_EPM0_PTE_SMA_DPG&f=M)  Fit a line to the data and plot it alongside the original data points.  (Note that you'll need to create your own x coordinates - try using np.linspace().)"
      ]
    },
    {
      "cell_type": "code",
      "execution_count": null,
      "metadata": {
        "id": "oDxL8amI68hK"
      },
      "outputs": [],
      "source": [
        "gas_prices = [2.385, 2.015, 2.000, 2.116, 2.178, 2.185, 2.184, 2.160,\n",
        "              2.142, 2.233, 2.381, 2.538, 2.792, 2.823, 2.943, 3.016,\n",
        "              3.088, 3.112, 3.162, 3.308, 3.479, 3.447, 3.409, 3.575,\n",
        "              4.310, 4.171, 4.634, 5.074, 4.728, 4.346, 3.826, 3.700, 3.912, 3.578]"
      ]
    },
    {
      "cell_type": "code",
      "execution_count": null,
      "metadata": {
        "colab": {
          "base_uri": "https://localhost:8080/",
          "height": 448
        },
        "id": "3P2U_2eC68hK",
        "outputId": "9d32eb5d-8f19-4a34-8a98-7d7f923c3663"
      },
      "outputs": [
        {
          "output_type": "execute_result",
          "data": {
            "text/plain": [
              "[<matplotlib.lines.Line2D at 0x7a2e2cbe72e0>]"
            ]
          },
          "metadata": {},
          "execution_count": 16
        },
        {
          "output_type": "display_data",
          "data": {
            "text/plain": [
              "<Figure size 640x480 with 1 Axes>"
            ],
            "image/png": "[encoded data removed]"
          },
          "metadata": {}
        }
      ],
      "source": [
        "# TODO\n",
        "\n",
        "from sklearn.linear_model import LinearRegression\n",
        "import matplotlib.pyplot as plt\n",
        "import numpy as np\n",
        "\n",
        "# 1, 2, 3,... -- based on the length of our data\n",
        "# Initialize the object\n",
        "x = np.linspace(0, len(gas_prices) - 1, len(gas_prices)) # This gives a 1D array\n",
        "\n",
        "# Need to reshape to make it a 2D array\n",
        "# -1: algo figures out the other dimension\n",
        "# 1: fit everything to that one column\n",
        "x = x.reshape(-1, 1)\n",
        "\n",
        "# Make a model\n",
        "reg_model = LinearRegression()\n",
        "reg_model.fit(x, gas_prices)\n",
        "\n",
        "# Make a prediction\n",
        "y_pred = reg_model.predict(x)\n",
        "\n",
        "plt.plot(x, gas_prices, 'o')\n",
        "plt.plot(x, y_pred, 'r')"
      ]
    },
    {
      "cell_type": "markdown",
      "metadata": {
        "id": "9i7ndSw968hK"
      },
      "source": [
        "# Tool focus:  Version Control\n",
        "\n",
        "Have you ever worked on a project where you needed to pass around a file to modify?  You probably were a little discontent with the process.  Near the end, it may have been hard to determine whether FinalFinal.docx was really your most recent copy, or if there might be a FinalFinalFinal.docx that was more recent.  If you were collaborating, it may have been annoying to try to keep people from working on the same stuff simultaneously.  And if you wanted to go back to an earlier version, you could only hope you saved a separate version around the right time."
      ]
    },
    {
      "cell_type": "markdown",
      "metadata": {
        "id": "loMMIlHa68hK"
      },
      "source": [
        "*Version control*, and the git/Github software and site in particular, is the programmer's answer to all the aforementioned problems.\n",
        "\n",
        "* A central server keeps track of a series of versions of the code.  It's always clear what the most recent version is, and it's relatively easy to go back to an earlier version.  If code becomes buggy, this helps determine when the bug was introduced.\n",
        "\n",
        "* When people get copies to work on locally, on their own machines, they create their own individual histories locally.  People are free to ignore their collaborators' work until they merge their changes back into the central repository.\n",
        "\n",
        "* When it's time to merge local changes into the central repository, the code is scanned for differences, and any discrepancies resulting from others' changes are highlighted and resolved."
      ]
    },
    {
      "cell_type": "markdown",
      "metadata": {
        "id": "6_7XkTRv68hK"
      },
      "source": [
        "If you become familiar with version control now, it may especially help with the final project, where you will have multiple individuals trying to work with the same files at the same time."
      ]
    },
    {
      "cell_type": "markdown",
      "metadata": {
        "id": "mXEc6DJP68hL"
      },
      "source": [
        "* If you do not already have a github account, go create one now at:  https://github.com/\n",
        "* Once you've created an account, create a new repository.  If you don't see the big green button immediately, you can click on yourself, then on \"Repositories,\" then \"New\" in the upper right.\n",
        "* Name your repository something arbitrary, like \"repo_test.\"  Also make it private (this is what you'd want to do for homework and other sensitive stuff).  Make a README file (because it also sets up a \"branch\" that you can commit to).  The other options don't really matter right now.\n",
        "* Assuming you are doing this recitation in Colab, go to File->Save a copy in GitHub.  Choose your notebook and save it to GitHub!  (You might also change the commit message - this is a good habit to get into so that you can find particular versions later.)\n",
        "* Check the repo on the GitHub website (under your username->Repositories), and verify that your code is now on the web (privately, assuming you chose \"private\")."
      ]
    },
    {
      "cell_type": "markdown",
      "metadata": {
        "id": "pIXZVM4a68hL"
      },
      "source": [
        "* Now let's try going back to an earlier version.  Fill the following code box with junk, and File->Save a copy in GitHub."
      ]
    },
    {
      "cell_type": "code",
      "execution_count": null,
      "metadata": {
        "id": "cTWrq-3H68hL"
      },
      "outputs": [],
      "source": [
        "def useless():\n",
        "  return 0"
      ]
    },
    {
      "cell_type": "markdown",
      "metadata": {
        "id": "aD0s0dFN68hL"
      },
      "source": [
        "* You can now see both versions of the notebook in the GitHub repository history.  (Repositories->your_repo_name->your_filename->History, with the clock icon.)\n",
        "* To open the most recent version, go to \"File->Open Notebook\" in Colab and choose the GitHub tab at the top.  Choose your repo and open it.\n",
        "* You can also access the versions in your history from Colab.  Go to File->Revision History.  (Notice that the right-hand side displays differences between the files.)  The dots next to each item in the history have the option of Open in Colab.  Try restoring an old version now."
      ]
    },
    {
      "cell_type": "markdown",
      "metadata": {
        "id": "GSc_4sVM68hL"
      },
      "source": [
        "* Last, try collaborating with someone on this file.  Within your repo on GitHub, go to Settings->Collaborators->Add people.  Add someone in your section who is willing to share their username with you.  \"Sign\" each others' work in the last text box, and show this along with your completed code to the TA to finish this section."
      ]
    },
    {
      "cell_type": "markdown",
      "metadata": {
        "id": "SFRSHIzh68hL"
      },
      "source": [
        "**Your collaborator's signature here**"
      ]
    },
    {
      "cell_type": "code",
      "execution_count": null,
      "metadata": {
        "id": "yZePfzkv68hL"
      },
      "outputs": [],
      "source": []
    }
  ],
  "metadata": {
    "colab": {
      "provenance": [],
      "include_colab_link": true
    },
    "kernelspec": {
      "display_name": "Python 3",
      "language": "python",
      "name": "python3"
    },
    "language_info": {
      "codemirror_mode": {
        "name": "ipython",
        "version": 3
      },
      "file_extension": ".py",
      "mimetype": "text/x-python",
      "name": "python",
      "nbconvert_exporter": "python",
      "pygments_lexer": "ipython3",
      "version": "3.8.8"
    }
  },
  "nbformat": 4,
  "nbformat_minor": 0
}